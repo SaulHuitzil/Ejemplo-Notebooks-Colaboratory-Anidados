{
  "nbformat": 4,
  "nbformat_minor": 0,
  "metadata": {
    "colab": {
      "provenance": [],
      "authorship_tag": "ABX9TyMML2/GY3IIxUmoXlrKZwK+",
      "include_colab_link": true
    },
    "kernelspec": {
      "name": "python3",
      "display_name": "Python 3"
    },
    "language_info": {
      "name": "python"
    }
  },
  "cells": [
    {
      "cell_type": "markdown",
      "metadata": {
        "id": "view-in-github",
        "colab_type": "text"
      },
      "source": [
        "<a href=\"https://colab.research.google.com/github/SaulHuitzil/Ejemplo-Notebooks-Colaboratory-Anidados/blob/main/TestShj02.ipynb\" target=\"_parent\"><img src=\"https://colab.research.google.com/assets/colab-badge.svg\" alt=\"Open In Colab\"/></a>"
      ]
    },
    {
      "cell_type": "code",
      "source": [
        "#!pip install import-ipynb"
      ],
      "metadata": {
        "id": "vr5wk1gH1XkZ"
      },
      "execution_count": 4,
      "outputs": []
    },
    {
      "cell_type": "code",
      "source": [
        "#!wget https://raw.githubusercontent.com/SaulHuitzil/Ejemplo-Notebooks-Colaboratory-Anidados/refs/heads/main/TestShj01.ipynb"
      ],
      "metadata": {
        "id": "QJ0CI5lw1YWf"
      },
      "execution_count": 5,
      "outputs": []
    },
    {
      "cell_type": "code",
      "execution_count": 3,
      "metadata": {
        "id": "wTHVayEd1RmH"
      },
      "outputs": [],
      "source": [
        "import import_ipynb\n",
        "import TestShj01  # Asegúrate de haber descargado TestShj01.ipynb previamente\n",
        "\n",
        "# Definimos una nueva clase que utiliza MiClase de TestShj01\n",
        "class MiClaseExtendida(TestShj01.MiClase):\n",
        "    def despedirse(self):\n",
        "        return f\"Adiós, {self.nombre}!\"\n"
      ]
    },
    {
      "cell_type": "code",
      "source": [],
      "metadata": {
        "id": "hzTAKBgT1eSB"
      },
      "execution_count": null,
      "outputs": []
    }
  ]
}